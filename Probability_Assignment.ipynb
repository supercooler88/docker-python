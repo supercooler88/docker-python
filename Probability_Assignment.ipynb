{
  "nbformat": 4,
  "nbformat_minor": 0,
  "metadata": {
    "colab": {
      "name": "Probability Assignment",
      "provenance": [],
      "collapsed_sections": [],
      "include_colab_link": true
    },
    "kernelspec": {
      "name": "python3",
      "display_name": "Python 3"
    }
  },
  "cells": [
    {
      "cell_type": "markdown",
      "metadata": {
        "id": "view-in-github",
        "colab_type": "text"
      },
      "source": [
        "<a href=\"https://colab.research.google.com/github/supercooler88/docker-python/blob/master/Probability_Assignment.ipynb\" target=\"_parent\"><img src=\"https://colab.research.google.com/assets/colab-badge.svg\" alt=\"Open In Colab\"/></a>"
      ]
    },
    {
      "cell_type": "markdown",
      "metadata": {
        "id": "YzSgy3Eu3aeg",
        "colab_type": "text"
      },
      "source": [
        "## Probability Assignment\n",
        "\n",
        "\n",
        "You guys can submit either handwritten or typed answers. Please do the maths. Don't just write the answers only.\n",
        "\n",
        "Share your answers to amritansh.48@gmail.com"
      ]
    },
    {
      "cell_type": "markdown",
      "metadata": {
        "id": "2MUluzo53hJy",
        "colab_type": "text"
      },
      "source": [
        "**Q1.** A bag contains 2 red, 3 green and 2 blue balls. Two balls are drawn at random. What is the probability that none of the balls drawn is blue?"
      ]
    },
    {
      "cell_type": "markdown",
      "metadata": {
        "id": "8jWhg0kD39wR",
        "colab_type": "text"
      },
      "source": [
        "**Q2.** \tThree unbiased coins are tossed. What is the probability of getting at most two heads?"
      ]
    },
    {
      "cell_type": "markdown",
      "metadata": {
        "id": "BsynqIE77Nie",
        "colab_type": "text"
      },
      "source": [
        "**Q3.** If two people are drawing out cards randomly from a pack of cards, Whats the probability that person A will draw 2 cards from red suites in sucession. The person A and B draw out cards one by one."
      ]
    },
    {
      "cell_type": "markdown",
      "metadata": {
        "id": "_wLMRyiZ8NKj",
        "colab_type": "text"
      },
      "source": [
        "**Q4.** Dennis is playing a game of rock-paper-scissors with Phil. The loser of the game will pay the winner $100.\n",
        "In the game of rock-paper-scissors, each player chooses either rock, paper, or scissors simultaneously. A winner is decided by the following rules: rock beats scissors, scissors beats paper, and paper beats rock. If both players make the same choice, then the game is a tie.\n",
        "Dennis is trying to decide whether to play rock or paper. Based on previous games, he knows that Phil will make his choice according to the probabilities in the table below:\n",
        "\n",
        "\n",
        "---\n",
        "\n",
        "Phil's Choice        :                                                                                Probability\n",
        "\n",
        "---\n",
        "Rock  :  0.5\n",
        "\n",
        "---\n",
        "\n",
        "Paper :  0.2\n",
        "\n",
        "\n",
        "---\n",
        "Scissor : 0.3\n",
        "\n",
        "\n",
        "\n",
        "\n",
        "\n",
        "\n",
        "---\n",
        "\n",
        "\n",
        "\n",
        "a)\tWhat are Dennis's expected winnings if he chooses rock? Round your answer to the nearest dollar.\n",
        "\n",
        "b)\tWhat are Dennis's expected winnings if he chooses paper? Round your answer to the nearest dollar.\n",
        "\n",
        "c)\tIf Dennis wants the best payoff in the long run, he should choose: Rock, Paper, Scissor?\n",
        "\n"
      ]
    },
    {
      "cell_type": "markdown",
      "metadata": {
        "id": "ToIViPgN4F6w",
        "colab_type": "text"
      },
      "source": [
        "**Q5**. Assuming a normal distribution of a people's height in cm: Given mean = 161.2 cm and variance = 144.8 cm^2. What is the probability that a random person selected will have height greater than 179 cm. You can refer this graph for calulations.\n",
        "\n",
        "![normal_curve](https://mathbitsnotebook.com/Algebra2/Statistics/normalstandard.jpg)"
      ]
    },
    {
      "cell_type": "markdown",
      "metadata": {
        "id": "INmG_zvjXR3B",
        "colab_type": "text"
      },
      "source": [
        "**Q6.** Find Mode in all of the following data points (use python functions to calculate):\n",
        "\n",
        "  a) 12, 8, 4, 8, 1, 8, 9, 11, 9, 10, 12, 8\n",
        "  \n",
        "  b) 15, 22, 17, 19, 22, 17, 29, 24, 17, 15\n",
        "  \n",
        "  c) 0, 3, 2, 1, 3, 5, 4, 3, 42, 1, 2, 0\n",
        "  \n",
        "  d) 1, 7, 2, 4, 5, 9, 8, 3"
      ]
    },
    {
      "cell_type": "markdown",
      "metadata": {
        "id": "1RbusyJ1XoWj",
        "colab_type": "text"
      },
      "source": [
        "**Q7**. The runs scored in a cricket match by 11 players is as follows:\n",
        "\n",
        "7, 16, 121, 51, 101, 81, 1, 16, 9, 11, 16\n",
        "\n",
        "Find the mean, mode, median of this data."
      ]
    },
    {
      "cell_type": "markdown",
      "metadata": {
        "id": "X6D8ooEuXv7a",
        "colab_type": "text"
      },
      "source": [
        "**Q8**.  Find the median and mean of the following data.\n",
        "\n",
        "(a) 27, 39, 49, 20, 21, 28, 38\n",
        "\n",
        "(b) 10, 19, 54, 80, 15, 16\n",
        "\n",
        "(c) 47, 41, 52, 43, 56, 35, 49, 55, 42\n",
        "\n",
        "(d) 12, 17, 3, 14, 5, 8, 7, 15"
      ]
    }
  ]
}