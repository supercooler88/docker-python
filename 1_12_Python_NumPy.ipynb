{
  "nbformat": 4,
  "nbformat_minor": 0,
  "metadata": {
    "colab": {
      "name": "1.12 Python NumPy",
      "provenance": [],
      "collapsed_sections": [],
      "include_colab_link": true
    },
    "kernelspec": {
      "name": "python3",
      "display_name": "Python 3"
    }
  },
  "cells": [
    {
      "cell_type": "markdown",
      "metadata": {
        "id": "view-in-github",
        "colab_type": "text"
      },
      "source": [
        "<a href=\"https://colab.research.google.com/github/supercooler88/docker-python/blob/master/1_12_Python_NumPy.ipynb\" target=\"_parent\"><img src=\"https://colab.research.google.com/assets/colab-badge.svg\" alt=\"Open In Colab\"/></a>"
      ]
    },
    {
      "cell_type": "markdown",
      "metadata": {
        "id": "GDITfmS5RCAE",
        "colab_type": "text"
      },
      "source": [
        "# Introduction\n",
        "\n",
        "**NumPy** is a general-purpose array-processing package designed to efficiently manipulate large multi-dimensional arrays of arbitrary records without sacrificing too much speed for small multi-dimensional arrays. **NumPy** is built on the Numeric code base and adds features introduced by numarray as well as an extended C-API and the ability to create arrays of arbitrary type which also makes NumPy suitable for interfacing with general-purpose data-base applications.\n",
        "\n",
        "There are also basic facilities for discrete fourier transform, basic linear algebra and random number generation. Its required to process large swaths of data files in tabular format needed for Data Science.\n",
        "\n",
        "www.numpy.org\n",
        "\n",
        "\n",
        "A common beginner question is what is the real difference here against python data types. The answer is performance. Numpy data structures perform better in:\n",
        "\n",
        "Size - Numpy data structures take up less space\n",
        "\n",
        "Performance - they have a need for speed and are faster than lists\n",
        "\n",
        "Functionality - SciPy and NumPy have optimized functions such as linear algebra operations built in."
      ]
    },
    {
      "cell_type": "markdown",
      "metadata": {
        "id": "Zz3GnetNZb5d",
        "colab_type": "text"
      },
      "source": [
        "Installation\n",
        "\n",
        "1. Comes preinstalled with Anaconda and Google colab\n",
        "    \n",
        "\n",
        "*   https://www.anaconda.com\n",
        "*   https://colab.research.google.com\n",
        "\n",
        "\n",
        "2. Otherwise use : **pip install numpy**\n",
        "\n",
        "The latest stable version of **NumPy** is 1.16.3"
      ]
    },
    {
      "cell_type": "markdown",
      "metadata": {
        "id": "Lb3KURlnZVyf",
        "colab_type": "text"
      },
      "source": [
        "Import in Python Program/Script"
      ]
    },
    {
      "cell_type": "code",
      "metadata": {
        "id": "Ov7f83Z6SiuO",
        "colab_type": "code",
        "colab": {
          "base_uri": "https://localhost:8080/",
          "height": 35
        },
        "outputId": "ef5b9719-a5c1-4c1d-d6d6-74156c782c60"
      },
      "source": [
        "! pip install numpy"
      ],
      "execution_count": 1,
      "outputs": [
        {
          "output_type": "stream",
          "text": [
            "Requirement already satisfied: numpy in /usr/local/lib/python3.6/dist-packages (1.18.5)\n"
          ],
          "name": "stdout"
        }
      ]
    },
    {
      "cell_type": "code",
      "metadata": {
        "id": "3Hhtlgc2ZxU5",
        "colab_type": "code",
        "colab": {}
      },
      "source": [
        "import numpy as np"
      ],
      "execution_count": 2,
      "outputs": []
    },
    {
      "cell_type": "markdown",
      "metadata": {
        "id": "-Kwy8LqqZ8ec",
        "colab_type": "text"
      },
      "source": [
        "## Intialization"
      ]
    },
    {
      "cell_type": "code",
      "metadata": {
        "id": "vohtMPnqauub",
        "colab_type": "code",
        "colab": {
          "base_uri": "https://localhost:8080/",
          "height": 711
        },
        "outputId": "5d86a378-e924-4f6b-e59c-aa20ed47630b"
      },
      "source": [
        "a = np.zeros((2,5,3,3))\n",
        "print (a)"
      ],
      "execution_count": 3,
      "outputs": [
        {
          "output_type": "stream",
          "text": [
            "[[[[0. 0. 0.]\n",
            "   [0. 0. 0.]\n",
            "   [0. 0. 0.]]\n",
            "\n",
            "  [[0. 0. 0.]\n",
            "   [0. 0. 0.]\n",
            "   [0. 0. 0.]]\n",
            "\n",
            "  [[0. 0. 0.]\n",
            "   [0. 0. 0.]\n",
            "   [0. 0. 0.]]\n",
            "\n",
            "  [[0. 0. 0.]\n",
            "   [0. 0. 0.]\n",
            "   [0. 0. 0.]]\n",
            "\n",
            "  [[0. 0. 0.]\n",
            "   [0. 0. 0.]\n",
            "   [0. 0. 0.]]]\n",
            "\n",
            "\n",
            " [[[0. 0. 0.]\n",
            "   [0. 0. 0.]\n",
            "   [0. 0. 0.]]\n",
            "\n",
            "  [[0. 0. 0.]\n",
            "   [0. 0. 0.]\n",
            "   [0. 0. 0.]]\n",
            "\n",
            "  [[0. 0. 0.]\n",
            "   [0. 0. 0.]\n",
            "   [0. 0. 0.]]\n",
            "\n",
            "  [[0. 0. 0.]\n",
            "   [0. 0. 0.]\n",
            "   [0. 0. 0.]]\n",
            "\n",
            "  [[0. 0. 0.]\n",
            "   [0. 0. 0.]\n",
            "   [0. 0. 0.]]]]\n"
          ],
          "name": "stdout"
        }
      ]
    },
    {
      "cell_type": "code",
      "metadata": {
        "id": "6WwzxJ9RbAsN",
        "colab_type": "code",
        "colab": {
          "base_uri": "https://localhost:8080/",
          "height": 35
        },
        "outputId": "49917124-2a04-4ead-8dc3-9fafd5a8f6ed"
      },
      "source": [
        "print (type(a))"
      ],
      "execution_count": null,
      "outputs": [
        {
          "output_type": "stream",
          "text": [
            "<class 'numpy.ndarray'>\n"
          ],
          "name": "stdout"
        }
      ]
    },
    {
      "cell_type": "code",
      "metadata": {
        "id": "vXmArsdxBx5K",
        "colab_type": "code",
        "colab": {
          "base_uri": "https://localhost:8080/",
          "height": 104
        },
        "outputId": "03db7275-3350-4cc7-a872-b18595b87192"
      },
      "source": [
        "b = np.ones((2,2,3), dtype =int)\n",
        "print (b)"
      ],
      "execution_count": null,
      "outputs": [
        {
          "output_type": "stream",
          "text": [
            "[[[1 1 1]\n",
            "  [1 1 1]]\n",
            "\n",
            " [[1 1 1]\n",
            "  [1 1 1]]]\n"
          ],
          "name": "stdout"
        }
      ]
    },
    {
      "cell_type": "code",
      "metadata": {
        "id": "dvgn2lUx0uzL",
        "colab_type": "code",
        "colab": {
          "base_uri": "https://localhost:8080/",
          "height": 35
        },
        "outputId": "c75a2467-f704-415a-f06f-e0d8a94429f9"
      },
      "source": [
        "a = np.array([1,2,3,4])\n",
        "print(a)"
      ],
      "execution_count": null,
      "outputs": [
        {
          "output_type": "stream",
          "text": [
            "[1 2 3 4]\n"
          ],
          "name": "stdout"
        }
      ]
    },
    {
      "cell_type": "code",
      "metadata": {
        "id": "zQQRt9sH05VI",
        "colab_type": "code",
        "colab": {
          "base_uri": "https://localhost:8080/",
          "height": 69
        },
        "outputId": "0a73b0bb-3de2-4c23-8802-b718eb29ed83"
      },
      "source": [
        "b = np.array([(1,2,3), (4,5,6), (7,11,6)])\n",
        "print(b)"
      ],
      "execution_count": null,
      "outputs": [
        {
          "output_type": "stream",
          "text": [
            "[[ 1  2  3]\n",
            " [ 4  5  6]\n",
            " [ 7 11  6]]\n"
          ],
          "name": "stdout"
        }
      ]
    },
    {
      "cell_type": "code",
      "metadata": {
        "id": "5Zf4Jat-1Fs_",
        "colab_type": "code",
        "colab": {
          "base_uri": "https://localhost:8080/",
          "height": 52
        },
        "outputId": "ada238d6-1c16-4d00-fb4c-fdacbb62e6f0"
      },
      "source": [
        "c = np.array( [ (1+2j, 2+6j), (3,4) ], dtype=complex )\n",
        "print (c)"
      ],
      "execution_count": null,
      "outputs": [
        {
          "output_type": "stream",
          "text": [
            "[[1.+2.j 2.+6.j]\n",
            " [3.+0.j 4.+0.j]]\n"
          ],
          "name": "stdout"
        }
      ]
    },
    {
      "cell_type": "code",
      "metadata": {
        "id": "eINTVBnQ1Wnl",
        "colab_type": "code",
        "colab": {
          "base_uri": "https://localhost:8080/",
          "height": 35
        },
        "outputId": "95cddb94-c1fa-44c2-de0c-0e9cef5dc1c6"
      },
      "source": [
        "d = np.array([1+2j, 3+4j, 5+6j])\n",
        "print (type(d))"
      ],
      "execution_count": null,
      "outputs": [
        {
          "output_type": "stream",
          "text": [
            "<class 'numpy.ndarray'>\n"
          ],
          "name": "stdout"
        }
      ]
    },
    {
      "cell_type": "markdown",
      "metadata": {
        "id": "82lfArqZx2dW",
        "colab_type": "text"
      },
      "source": [
        "## Generate Random numeric values"
      ]
    },
    {
      "cell_type": "code",
      "metadata": {
        "id": "OaokU5mYFn56",
        "colab_type": "code",
        "colab": {
          "base_uri": "https://localhost:8080/",
          "height": 711
        },
        "outputId": "82e06550-63f1-42ed-ca21-2aeb50873faa"
      },
      "source": [
        "np.random.seed(700)\n",
        "np.random.rand(20,10)\n"
      ],
      "execution_count": null,
      "outputs": [
        {
          "output_type": "execute_result",
          "data": {
            "text/plain": [
              "array([[0.15654636, 0.41686984, 0.06680689, 0.86540639, 0.30229266,\n",
              "        0.74125586, 0.41041526, 0.34513583, 0.97038625, 0.85254326],\n",
              "       [0.57568511, 0.74530348, 0.68513455, 0.37452814, 0.18463369,\n",
              "        0.28290183, 0.76077559, 0.61127742, 0.5473914 , 0.71080255],\n",
              "       [0.58580117, 0.97151746, 0.94569067, 0.5166665 , 0.6582399 ,\n",
              "        0.79492955, 0.40720702, 0.76953392, 0.07670343, 0.65327686],\n",
              "       [0.8583688 , 0.50493235, 0.6966257 , 0.89618378, 0.36649969,\n",
              "        0.73465513, 0.62589185, 0.9430502 , 0.6142144 , 0.83581277],\n",
              "       [0.28378321, 0.74103373, 0.12282519, 0.9795708 , 0.02377285,\n",
              "        0.50611138, 0.98748746, 0.48673501, 0.03395986, 0.76613888],\n",
              "       [0.75934091, 0.87632783, 0.63020388, 0.38634057, 0.93143231,\n",
              "        0.91418726, 0.49593791, 0.60003236, 0.07850808, 0.6368584 ],\n",
              "       [0.5903337 , 0.38502885, 0.25112874, 0.84811823, 0.97997383,\n",
              "        0.20651039, 0.2399852 , 0.66630943, 0.63050984, 0.449665  ],\n",
              "       [0.03083455, 0.9677237 , 0.16781812, 0.93602031, 0.26091858,\n",
              "        0.08039602, 0.66426854, 0.7810304 , 0.43112194, 0.02430269],\n",
              "       [0.94222472, 0.46964807, 0.56886266, 0.20331789, 0.75311205,\n",
              "        0.87206812, 0.04889377, 0.6024443 , 0.35582065, 0.03061727],\n",
              "       [0.7894653 , 0.45926228, 0.43469631, 0.13643147, 0.06380787,\n",
              "        0.12476708, 0.72559068, 0.57882288, 0.64715944, 0.78150588],\n",
              "       [0.27245117, 0.65689379, 0.66037058, 0.07264659, 0.33305183,\n",
              "        0.20025393, 0.58161303, 0.93335702, 0.45597733, 0.32783714],\n",
              "       [0.03862893, 0.72968495, 0.68967093, 0.07714609, 0.45111939,\n",
              "        0.54835918, 0.25584303, 0.57428114, 0.61085907, 0.10382525],\n",
              "       [0.94423214, 0.51934929, 0.71746682, 0.87377542, 0.35087255,\n",
              "        0.52212875, 0.69031679, 0.12079911, 0.64582443, 0.90466746],\n",
              "       [0.36653867, 0.23802772, 0.4876133 , 0.07857842, 0.17802592,\n",
              "        0.77176606, 0.23941844, 0.7180149 , 0.4813561 , 0.34391711],\n",
              "       [0.10610322, 0.97263589, 0.73970571, 0.67494162, 0.55150644,\n",
              "        0.35898391, 0.76443824, 0.71760998, 0.76493052, 0.68016337],\n",
              "       [0.74960428, 0.29979418, 0.44693061, 0.87841325, 0.85661556,\n",
              "        0.27556568, 0.35721755, 0.98417681, 0.89620086, 0.20706407],\n",
              "       [0.42931468, 0.70756605, 0.37200269, 0.911715  , 0.48391361,\n",
              "        0.62732182, 0.41800075, 0.51993808, 0.86395954, 0.23386414],\n",
              "       [0.54714483, 0.03682544, 0.92616009, 0.03783436, 0.39412579,\n",
              "        0.98646444, 0.35423998, 0.49772667, 0.9212284 , 0.55098948],\n",
              "       [0.36286018, 0.55647954, 0.18548321, 0.66131838, 0.89274273,\n",
              "        0.43443622, 0.56850791, 0.90626762, 0.18162188, 0.79943484],\n",
              "       [0.92868835, 0.89440554, 0.28483786, 0.04614544, 0.44890027,\n",
              "        0.71443261, 0.59227902, 0.87185675, 0.13932615, 0.91023323]])"
            ]
          },
          "metadata": {
            "tags": []
          },
          "execution_count": 10
        }
      ]
    },
    {
      "cell_type": "code",
      "metadata": {
        "id": "leJ9DZZZF-Bp",
        "colab_type": "code",
        "colab": {
          "base_uri": "https://localhost:8080/",
          "height": 191
        },
        "outputId": "39ad0f6a-8cd2-40d8-cf0b-c0ed4bbf2c64"
      },
      "source": [
        "data = np.random.randint(1,10,(10,8))\n",
        "print (data)"
      ],
      "execution_count": null,
      "outputs": [
        {
          "output_type": "stream",
          "text": [
            "[[7 3 8 8 7 1 4 8]\n",
            " [5 2 2 8 9 2 1 6]\n",
            " [4 1 4 8 5 9 1 5]\n",
            " [3 4 4 3 1 9 2 6]\n",
            " [5 8 2 3 6 2 8 9]\n",
            " [4 4 9 7 9 2 5 7]\n",
            " [9 6 5 4 1 7 6 6]\n",
            " [4 8 1 3 3 5 5 9]\n",
            " [2 1 4 5 9 4 1 3]\n",
            " [9 1 1 2 2 6 4 5]]\n"
          ],
          "name": "stdout"
        }
      ]
    },
    {
      "cell_type": "markdown",
      "metadata": {
        "id": "809KugMNy7XL",
        "colab_type": "text"
      },
      "source": [
        "## Reshaping matrix"
      ]
    },
    {
      "cell_type": "code",
      "metadata": {
        "id": "o3_s6shuzFaG",
        "colab_type": "code",
        "colab": {
          "base_uri": "https://localhost:8080/",
          "height": 35
        },
        "outputId": "c0d8d57d-71b1-45d3-d850-4f231353c4a4"
      },
      "source": [
        "a = np.arange(5,25)\n",
        "print (a)"
      ],
      "execution_count": null,
      "outputs": [
        {
          "output_type": "stream",
          "text": [
            "[ 5  6  7  8  9 10 11 12 13 14 15 16 17 18 19 20 21 22 23 24]\n"
          ],
          "name": "stdout"
        }
      ]
    },
    {
      "cell_type": "code",
      "metadata": {
        "id": "C-Vhz1PazQCE",
        "colab_type": "code",
        "colab": {
          "base_uri": "https://localhost:8080/",
          "height": 260
        },
        "outputId": "e0671e6a-1733-4ac8-a39c-56faac11dbee"
      },
      "source": [
        "# a = a.reshape(4,5)\n",
        "# a = a.reshape(5,4)\n",
        "a = a.reshape(5,2,2)\n",
        "a"
      ],
      "execution_count": null,
      "outputs": [
        {
          "output_type": "execute_result",
          "data": {
            "text/plain": [
              "array([[[ 5,  6],\n",
              "        [ 7,  8]],\n",
              "\n",
              "       [[ 9, 10],\n",
              "        [11, 12]],\n",
              "\n",
              "       [[13, 14],\n",
              "        [15, 16]],\n",
              "\n",
              "       [[17, 18],\n",
              "        [19, 20]],\n",
              "\n",
              "       [[21, 22],\n",
              "        [23, 24]]])"
            ]
          },
          "metadata": {
            "tags": []
          },
          "execution_count": 13
        }
      ]
    },
    {
      "cell_type": "code",
      "metadata": {
        "id": "Y8umggUkznOT",
        "colab_type": "code",
        "colab": {
          "base_uri": "https://localhost:8080/",
          "height": 104
        },
        "outputId": "8b018e63-1398-4eb7-e795-37e8db080481"
      },
      "source": [
        "print(a.shape)\n",
        "print(a.ndim)\n",
        "print(a.dtype)\n",
        "print(a.itemsize)\n",
        "print(a.size)"
      ],
      "execution_count": null,
      "outputs": [
        {
          "output_type": "stream",
          "text": [
            "(5, 2, 2)\n",
            "3\n",
            "int64\n",
            "8\n",
            "20\n"
          ],
          "name": "stdout"
        }
      ]
    },
    {
      "cell_type": "markdown",
      "metadata": {
        "id": "0uqV9X3TDtXD",
        "colab_type": "text"
      },
      "source": [
        "## Basic Operations"
      ]
    },
    {
      "cell_type": "code",
      "metadata": {
        "id": "zZ11M8RED0aX",
        "colab_type": "code",
        "colab": {
          "base_uri": "https://localhost:8080/",
          "height": 69
        },
        "outputId": "74b24d01-42aa-4162-fc29-571ff7c717ce"
      },
      "source": [
        "a = np.array( [20,30,40,50] )\n",
        "b = np.arange( 4,8 )\n",
        "print (a)\n",
        "print (b)\n",
        "c = a-b\n",
        "print (c)"
      ],
      "execution_count": null,
      "outputs": [
        {
          "output_type": "stream",
          "text": [
            "[20 30 40 50]\n",
            "[4 5 6 7]\n",
            "[16 25 34 43]\n"
          ],
          "name": "stdout"
        }
      ]
    },
    {
      "cell_type": "code",
      "metadata": {
        "id": "lGG6CXwwEH4M",
        "colab_type": "code",
        "colab": {
          "base_uri": "https://localhost:8080/",
          "height": 35
        },
        "outputId": "01625d4b-e875-4ea9-fb7c-031b23c565dc"
      },
      "source": [
        "b**2"
      ],
      "execution_count": null,
      "outputs": [
        {
          "output_type": "execute_result",
          "data": {
            "text/plain": [
              "array([16, 25, 36, 49])"
            ]
          },
          "metadata": {
            "tags": []
          },
          "execution_count": 16
        }
      ]
    },
    {
      "cell_type": "code",
      "metadata": {
        "id": "8xXI4l41ER3D",
        "colab_type": "code",
        "colab": {
          "base_uri": "https://localhost:8080/",
          "height": 35
        },
        "outputId": "c32061fe-eebe-4d5b-abc1-c5adb96c12ef"
      },
      "source": [
        "np.sin(a)"
      ],
      "execution_count": null,
      "outputs": [
        {
          "output_type": "execute_result",
          "data": {
            "text/plain": [
              "array([ 0.91294525, -0.98803162,  0.74511316, -0.26237485])"
            ]
          },
          "metadata": {
            "tags": []
          },
          "execution_count": 17
        }
      ]
    },
    {
      "cell_type": "code",
      "metadata": {
        "id": "MbgmW8J4EhOP",
        "colab_type": "code",
        "colab": {
          "base_uri": "https://localhost:8080/",
          "height": 35
        },
        "outputId": "4a84b2b1-a0b6-4a25-db73-ec1e323b410f"
      },
      "source": [
        "np.sin(np.array((0., 30., 45., 60., 90.)) * np.pi / 180. )"
      ],
      "execution_count": null,
      "outputs": [
        {
          "output_type": "execute_result",
          "data": {
            "text/plain": [
              "array([0.        , 0.5       , 0.70710678, 0.8660254 , 1.        ])"
            ]
          },
          "metadata": {
            "tags": []
          },
          "execution_count": 18
        }
      ]
    },
    {
      "cell_type": "code",
      "metadata": {
        "id": "UEbFT-KVyALy",
        "colab_type": "code",
        "colab": {
          "base_uri": "https://localhost:8080/",
          "height": 52
        },
        "outputId": "4b1a0a8b-3028-4de1-c474-860a2b26ef89"
      },
      "source": [
        "np.cos(np.array((0.,30.,45.,60.,90.))* np.pi / 180.)\n"
      ],
      "execution_count": null,
      "outputs": [
        {
          "output_type": "execute_result",
          "data": {
            "text/plain": [
              "array([1.00000000e+00, 8.66025404e-01, 7.07106781e-01, 5.00000000e-01,\n",
              "       6.12323400e-17])"
            ]
          },
          "metadata": {
            "tags": []
          },
          "execution_count": 19
        }
      ]
    },
    {
      "cell_type": "code",
      "metadata": {
        "id": "4sHgjj6nFwR1",
        "colab_type": "code",
        "colab": {
          "base_uri": "https://localhost:8080/",
          "height": 35
        },
        "outputId": "cbc57067-3c06-46e0-9207-f272cc76e6d3"
      },
      "source": [
        "a[a>45]"
      ],
      "execution_count": null,
      "outputs": [
        {
          "output_type": "execute_result",
          "data": {
            "text/plain": [
              "array([50])"
            ]
          },
          "metadata": {
            "tags": []
          },
          "execution_count": 20
        }
      ]
    },
    {
      "cell_type": "code",
      "metadata": {
        "id": "x0_ItPgzGGc3",
        "colab_type": "code",
        "colab": {
          "base_uri": "https://localhost:8080/",
          "height": 225
        },
        "outputId": "38891412-c9ff-480c-9625-c7ff8a36abe8"
      },
      "source": [
        "A = np.array( [[1,1], [0,1]] )\n",
        "B = np.array( [[2,0], [3,4]] )\n",
        "print (A)\n",
        "print (B)\n",
        "\n",
        "# elementwise matrix multiplication\n",
        "print (\"elementwise\")\n",
        "print (A*B)\n",
        "\n",
        "# matrix product\n",
        "print (\"matrixproduct\")\n",
        "print (A@B)\n",
        "\n",
        "# another way of matrix product\n",
        "\n",
        "print (A.dot(B))"
      ],
      "execution_count": null,
      "outputs": [
        {
          "output_type": "stream",
          "text": [
            "[[1 1]\n",
            " [0 1]]\n",
            "[[2 0]\n",
            " [3 4]]\n",
            "elementwise\n",
            "[[2 0]\n",
            " [0 4]]\n",
            "matrixproduct\n",
            "[[5 4]\n",
            " [3 4]]\n",
            "[[5 4]\n",
            " [3 4]]\n"
          ],
          "name": "stdout"
        }
      ]
    },
    {
      "cell_type": "markdown",
      "metadata": {
        "id": "HBTHrG-LHppT",
        "colab_type": "text"
      },
      "source": [
        "## Unary Operations"
      ]
    },
    {
      "cell_type": "code",
      "metadata": {
        "id": "roQpwdQSGvY4",
        "colab_type": "code",
        "colab": {
          "base_uri": "https://localhost:8080/",
          "height": 52
        },
        "outputId": "ffc4e838-cb18-471c-9e1f-c287261ae496"
      },
      "source": [
        "a = np.random.random((2,3))\n",
        "a"
      ],
      "execution_count": null,
      "outputs": [
        {
          "output_type": "execute_result",
          "data": {
            "text/plain": [
              "array([[0.27083024, 0.35094912, 0.62686355],\n",
              "       [0.63151289, 0.73910934, 0.74810479]])"
            ]
          },
          "metadata": {
            "tags": []
          },
          "execution_count": 22
        }
      ]
    },
    {
      "cell_type": "code",
      "metadata": {
        "id": "UHDDIKLUXXc8",
        "colab_type": "code",
        "colab": {
          "base_uri": "https://localhost:8080/",
          "height": 35
        },
        "outputId": "58987664-e5b8-4cce-f032-64617967141d"
      },
      "source": [
        "a.shape"
      ],
      "execution_count": null,
      "outputs": [
        {
          "output_type": "execute_result",
          "data": {
            "text/plain": [
              "(2, 3)"
            ]
          },
          "metadata": {
            "tags": []
          },
          "execution_count": 23
        }
      ]
    },
    {
      "cell_type": "code",
      "metadata": {
        "id": "TAtsQNZxHy-k",
        "colab_type": "code",
        "colab": {
          "base_uri": "https://localhost:8080/",
          "height": 35
        },
        "outputId": "87562430-8c7a-43a4-ef98-632883cd2c33"
      },
      "source": [
        "a.sum()"
      ],
      "execution_count": null,
      "outputs": [
        {
          "output_type": "execute_result",
          "data": {
            "text/plain": [
              "3.36736992849458"
            ]
          },
          "metadata": {
            "tags": []
          },
          "execution_count": 24
        }
      ]
    },
    {
      "cell_type": "code",
      "metadata": {
        "id": "3fTZHWfuICvD",
        "colab_type": "code",
        "colab": {
          "base_uri": "https://localhost:8080/",
          "height": 35
        },
        "outputId": "00e2d768-d45a-4a49-977b-c6611a73709f"
      },
      "source": [
        "a.min()"
      ],
      "execution_count": null,
      "outputs": [
        {
          "output_type": "execute_result",
          "data": {
            "text/plain": [
              "0.27083024065540606"
            ]
          },
          "metadata": {
            "tags": []
          },
          "execution_count": 25
        }
      ]
    },
    {
      "cell_type": "code",
      "metadata": {
        "id": "s6Qvu-REIEDN",
        "colab_type": "code",
        "colab": {
          "base_uri": "https://localhost:8080/",
          "height": 35
        },
        "outputId": "489a8285-126d-4c04-821b-ed022e766f40"
      },
      "source": [
        "a.max()"
      ],
      "execution_count": null,
      "outputs": [
        {
          "output_type": "execute_result",
          "data": {
            "text/plain": [
              "0.7481047863598169"
            ]
          },
          "metadata": {
            "tags": []
          },
          "execution_count": 26
        }
      ]
    },
    {
      "cell_type": "code",
      "metadata": {
        "id": "qmqY1h15H7Fo",
        "colab_type": "code",
        "colab": {
          "base_uri": "https://localhost:8080/",
          "height": 87
        },
        "outputId": "b4846280-a774-4c22-bc12-6f7218b6a1ef"
      },
      "source": [
        "b = np.arange(12).reshape(4,3)\n",
        "b"
      ],
      "execution_count": null,
      "outputs": [
        {
          "output_type": "execute_result",
          "data": {
            "text/plain": [
              "array([[ 0,  1,  2],\n",
              "       [ 3,  4,  5],\n",
              "       [ 6,  7,  8],\n",
              "       [ 9, 10, 11]])"
            ]
          },
          "metadata": {
            "tags": []
          },
          "execution_count": 27
        }
      ]
    },
    {
      "cell_type": "code",
      "metadata": {
        "id": "MYbAzGbEXfXf",
        "colab_type": "code",
        "colab": {
          "base_uri": "https://localhost:8080/",
          "height": 35
        },
        "outputId": "5f8b0f41-ae2c-4b44-d5eb-a8a0d8596753"
      },
      "source": [
        "b.shape"
      ],
      "execution_count": null,
      "outputs": [
        {
          "output_type": "execute_result",
          "data": {
            "text/plain": [
              "(4, 3)"
            ]
          },
          "metadata": {
            "tags": []
          },
          "execution_count": 28
        }
      ]
    },
    {
      "cell_type": "code",
      "metadata": {
        "id": "Zzo90VBOIMpJ",
        "colab_type": "code",
        "colab": {
          "base_uri": "https://localhost:8080/",
          "height": 35
        },
        "outputId": "c482031f-6630-4a6b-e3b1-24ae1e8977cc"
      },
      "source": [
        "b.sum(axis = 0)"
      ],
      "execution_count": null,
      "outputs": [
        {
          "output_type": "execute_result",
          "data": {
            "text/plain": [
              "array([18, 22, 26])"
            ]
          },
          "metadata": {
            "tags": []
          },
          "execution_count": 29
        }
      ]
    },
    {
      "cell_type": "code",
      "metadata": {
        "id": "muQCGEwMISY7",
        "colab_type": "code",
        "colab": {
          "base_uri": "https://localhost:8080/",
          "height": 35
        },
        "outputId": "e5470e7c-80ab-4eea-b028-ae1a7edc56ad"
      },
      "source": [
        "b.sum(axis=1)"
      ],
      "execution_count": null,
      "outputs": [
        {
          "output_type": "execute_result",
          "data": {
            "text/plain": [
              "array([ 3, 12, 21, 30])"
            ]
          },
          "metadata": {
            "tags": []
          },
          "execution_count": 30
        }
      ]
    },
    {
      "cell_type": "code",
      "metadata": {
        "id": "N-qa5pGjIcWA",
        "colab_type": "code",
        "colab": {
          "base_uri": "https://localhost:8080/",
          "height": 35
        },
        "outputId": "aceab1d6-9571-42c7-ce16-7a99c7707bf1"
      },
      "source": [
        "b.min(axis = 0)"
      ],
      "execution_count": null,
      "outputs": [
        {
          "output_type": "execute_result",
          "data": {
            "text/plain": [
              "array([0, 1, 2])"
            ]
          },
          "metadata": {
            "tags": []
          },
          "execution_count": 31
        }
      ]
    },
    {
      "cell_type": "code",
      "metadata": {
        "id": "nhoShOgTIhjd",
        "colab_type": "code",
        "colab": {
          "base_uri": "https://localhost:8080/",
          "height": 87
        },
        "outputId": "3f10a7df-5121-4756-b55e-009734125f79"
      },
      "source": [
        "b.cumsum(axis =0)"
      ],
      "execution_count": null,
      "outputs": [
        {
          "output_type": "execute_result",
          "data": {
            "text/plain": [
              "array([[ 0,  1,  2],\n",
              "       [ 3,  5,  7],\n",
              "       [ 9, 12, 15],\n",
              "       [18, 22, 26]])"
            ]
          },
          "metadata": {
            "tags": []
          },
          "execution_count": 32
        }
      ]
    },
    {
      "cell_type": "code",
      "metadata": {
        "id": "4tF6CTRkfJF1",
        "colab_type": "code",
        "colab": {}
      },
      "source": [
        "a = np.array([1,2,3,4, 0.5, 0.25])"
      ],
      "execution_count": null,
      "outputs": []
    },
    {
      "cell_type": "code",
      "metadata": {
        "id": "cXSwXccTIoR9",
        "colab_type": "code",
        "colab": {
          "base_uri": "https://localhost:8080/",
          "height": 52
        },
        "outputId": "28fec351-986c-4ae1-cb23-ec578b98a224"
      },
      "source": [
        "np.exp(a)"
      ],
      "execution_count": null,
      "outputs": [
        {
          "output_type": "execute_result",
          "data": {
            "text/plain": [
              "array([ 2.71828183,  7.3890561 , 20.08553692, 54.59815003,  1.64872127,\n",
              "        1.28402542])"
            ]
          },
          "metadata": {
            "tags": []
          },
          "execution_count": 34
        }
      ]
    },
    {
      "cell_type": "code",
      "metadata": {
        "id": "bDp6K_T4IyD0",
        "colab_type": "code",
        "colab": {
          "base_uri": "https://localhost:8080/",
          "height": 52
        },
        "outputId": "d1433232-764f-462c-e9e6-06eb1fa80162"
      },
      "source": [
        "np.sqrt(a)"
      ],
      "execution_count": null,
      "outputs": [
        {
          "output_type": "execute_result",
          "data": {
            "text/plain": [
              "array([1.        , 1.41421356, 1.73205081, 2.        , 0.70710678,\n",
              "       0.5       ])"
            ]
          },
          "metadata": {
            "tags": []
          },
          "execution_count": 35
        }
      ]
    },
    {
      "cell_type": "code",
      "metadata": {
        "id": "EB4NlWx0I-m8",
        "colab_type": "code",
        "colab": {
          "base_uri": "https://localhost:8080/",
          "height": 52
        },
        "outputId": "c2b62d31-4cb3-401c-a02e-787bbdbea737"
      },
      "source": [
        "np.add(A,B) #shape of both inputs must be same"
      ],
      "execution_count": null,
      "outputs": [
        {
          "output_type": "execute_result",
          "data": {
            "text/plain": [
              "array([[3, 1],\n",
              "       [3, 5]])"
            ]
          },
          "metadata": {
            "tags": []
          },
          "execution_count": 36
        }
      ]
    },
    {
      "cell_type": "markdown",
      "metadata": {
        "id": "7FtfkN7xJNcD",
        "colab_type": "text"
      },
      "source": [
        "## Indexing, Slicing and Iterating"
      ]
    },
    {
      "cell_type": "code",
      "metadata": {
        "id": "oE1s5IKMJQ_F",
        "colab_type": "code",
        "colab": {
          "base_uri": "https://localhost:8080/",
          "height": 35
        },
        "outputId": "55511831-a868-4b0a-eff9-4aec3d669093"
      },
      "source": [
        "# Very similar to list in python\n",
        "a = np.arange(10)**2\n",
        "a"
      ],
      "execution_count": null,
      "outputs": [
        {
          "output_type": "execute_result",
          "data": {
            "text/plain": [
              "array([ 0,  1,  4,  9, 16, 25, 36, 49, 64, 81])"
            ]
          },
          "metadata": {
            "tags": []
          },
          "execution_count": 37
        }
      ]
    },
    {
      "cell_type": "code",
      "metadata": {
        "id": "RH5vF6WlODaC",
        "colab_type": "code",
        "colab": {
          "base_uri": "https://localhost:8080/",
          "height": 35
        },
        "outputId": "6b2cd583-c8de-4e32-8646-1be009c19d5a"
      },
      "source": [
        "a[6]"
      ],
      "execution_count": null,
      "outputs": [
        {
          "output_type": "execute_result",
          "data": {
            "text/plain": [
              "36"
            ]
          },
          "metadata": {
            "tags": []
          },
          "execution_count": 38
        }
      ]
    },
    {
      "cell_type": "code",
      "metadata": {
        "id": "VRZXHbxJOH_k",
        "colab_type": "code",
        "colab": {
          "base_uri": "https://localhost:8080/",
          "height": 35
        },
        "outputId": "2e5aaa9a-3198-43e2-e970-c5df4b7a0c07"
      },
      "source": [
        "a[2:5]"
      ],
      "execution_count": null,
      "outputs": [
        {
          "output_type": "execute_result",
          "data": {
            "text/plain": [
              "array([ 4,  9, 16])"
            ]
          },
          "metadata": {
            "tags": []
          },
          "execution_count": 39
        }
      ]
    },
    {
      "cell_type": "code",
      "metadata": {
        "id": "uxpLskGCO1aF",
        "colab_type": "code",
        "colab": {
          "base_uri": "https://localhost:8080/",
          "height": 191
        },
        "outputId": "bf0640c8-1c4d-465b-c97e-11898da9f9c3"
      },
      "source": [
        "for i in a:\n",
        "  print (i ** 3)"
      ],
      "execution_count": null,
      "outputs": [
        {
          "output_type": "stream",
          "text": [
            "0\n",
            "1\n",
            "64\n",
            "729\n",
            "4096\n",
            "15625\n",
            "46656\n",
            "117649\n",
            "262144\n",
            "531441\n"
          ],
          "name": "stdout"
        }
      ]
    },
    {
      "cell_type": "code",
      "metadata": {
        "id": "_dsqUPGtRfAB",
        "colab_type": "code",
        "colab": {
          "base_uri": "https://localhost:8080/",
          "height": 52
        },
        "outputId": "2576958c-fa56-41ab-db70-68c45b301bdf"
      },
      "source": [
        "B = np.arange(5,15).reshape(2,5)\n",
        "B"
      ],
      "execution_count": null,
      "outputs": [
        {
          "output_type": "execute_result",
          "data": {
            "text/plain": [
              "array([[ 5,  6,  7,  8,  9],\n",
              "       [10, 11, 12, 13, 14]])"
            ]
          },
          "metadata": {
            "tags": []
          },
          "execution_count": 41
        }
      ]
    },
    {
      "cell_type": "code",
      "metadata": {
        "id": "JwVc6kv_RyOj",
        "colab_type": "code",
        "colab": {
          "base_uri": "https://localhost:8080/",
          "height": 35
        },
        "outputId": "ff48b94c-9d51-4889-bd9d-f53ddf54b0dd"
      },
      "source": [
        "B[0,1]"
      ],
      "execution_count": null,
      "outputs": [
        {
          "output_type": "execute_result",
          "data": {
            "text/plain": [
              "6"
            ]
          },
          "metadata": {
            "tags": []
          },
          "execution_count": 42
        }
      ]
    },
    {
      "cell_type": "code",
      "metadata": {
        "id": "Z2jbn2Y8R-Bn",
        "colab_type": "code",
        "colab": {
          "base_uri": "https://localhost:8080/",
          "height": 35
        },
        "outputId": "756420e6-cb8f-4fd1-e097-a449dc61083f"
      },
      "source": [
        "B[:, 1] "
      ],
      "execution_count": null,
      "outputs": [
        {
          "output_type": "execute_result",
          "data": {
            "text/plain": [
              "array([ 6, 11])"
            ]
          },
          "metadata": {
            "tags": []
          },
          "execution_count": 43
        }
      ]
    },
    {
      "cell_type": "code",
      "metadata": {
        "id": "QIoUqqrvSV30",
        "colab_type": "code",
        "colab": {
          "base_uri": "https://localhost:8080/",
          "height": 156
        },
        "outputId": "7219b9d4-75eb-47d4-a463-c244c146a414"
      },
      "source": [
        "C = np.array( [[[  0,  1,  2], [ 10, 12, 13]], [[100,101,102], [110,112,113]], [[1,10,12], [110,112,113]]])\n",
        "C"
      ],
      "execution_count": null,
      "outputs": [
        {
          "output_type": "execute_result",
          "data": {
            "text/plain": [
              "array([[[  0,   1,   2],\n",
              "        [ 10,  12,  13]],\n",
              "\n",
              "       [[100, 101, 102],\n",
              "        [110, 112, 113]],\n",
              "\n",
              "       [[  1,  10,  12],\n",
              "        [110, 112, 113]]])"
            ]
          },
          "metadata": {
            "tags": []
          },
          "execution_count": 44
        }
      ]
    },
    {
      "cell_type": "code",
      "metadata": {
        "id": "qvRkCjJwSjpn",
        "colab_type": "code",
        "colab": {
          "base_uri": "https://localhost:8080/",
          "height": 35
        },
        "outputId": "fe6ce322-f9a5-44bd-b5f9-60e3cc5cd937"
      },
      "source": [
        "C.shape"
      ],
      "execution_count": null,
      "outputs": [
        {
          "output_type": "execute_result",
          "data": {
            "text/plain": [
              "(3, 2, 3)"
            ]
          },
          "metadata": {
            "tags": []
          },
          "execution_count": 45
        }
      ]
    },
    {
      "cell_type": "code",
      "metadata": {
        "id": "MuyswaaGSpvF",
        "colab_type": "code",
        "colab": {
          "base_uri": "https://localhost:8080/",
          "height": 52
        },
        "outputId": "71072b0e-1d8a-4636-d417-4599baebee27"
      },
      "source": [
        "C[1,...]"
      ],
      "execution_count": null,
      "outputs": [
        {
          "output_type": "execute_result",
          "data": {
            "text/plain": [
              "array([[100, 101, 102],\n",
              "       [110, 112, 113]])"
            ]
          },
          "metadata": {
            "tags": []
          },
          "execution_count": 46
        }
      ]
    },
    {
      "cell_type": "code",
      "metadata": {
        "id": "OkJeOujeIwlC",
        "colab_type": "code",
        "colab": {
          "base_uri": "https://localhost:8080/",
          "height": 104
        },
        "outputId": "8b36e1fe-2be5-434e-f346-66a1b2ce7783"
      },
      "source": [
        "C[1:]"
      ],
      "execution_count": null,
      "outputs": [
        {
          "output_type": "execute_result",
          "data": {
            "text/plain": [
              "array([[[100, 101, 102],\n",
              "        [110, 112, 113]],\n",
              "\n",
              "       [[  1,  10,  12],\n",
              "        [110, 112, 113]]])"
            ]
          },
          "metadata": {
            "tags": []
          },
          "execution_count": 47
        }
      ]
    },
    {
      "cell_type": "code",
      "metadata": {
        "id": "2Cu5ZNehSvpr",
        "colab_type": "code",
        "colab": {
          "base_uri": "https://localhost:8080/",
          "height": 69
        },
        "outputId": "afc5f84a-d794-4c4c-add5-1c3d81496fd0"
      },
      "source": [
        "C[...,2]"
      ],
      "execution_count": null,
      "outputs": [
        {
          "output_type": "execute_result",
          "data": {
            "text/plain": [
              "array([[  2,  13],\n",
              "       [102, 113],\n",
              "       [ 12, 113]])"
            ]
          },
          "metadata": {
            "tags": []
          },
          "execution_count": 48
        }
      ]
    },
    {
      "cell_type": "code",
      "metadata": {
        "id": "8ESpepI96LMn",
        "colab_type": "code",
        "colab": {
          "base_uri": "https://localhost:8080/",
          "height": 35
        },
        "outputId": "30983cd3-d21a-401b-c355-190542a60b12"
      },
      "source": [
        "C[1,1,...]"
      ],
      "execution_count": null,
      "outputs": [
        {
          "output_type": "execute_result",
          "data": {
            "text/plain": [
              "array([110, 112, 113])"
            ]
          },
          "metadata": {
            "tags": []
          },
          "execution_count": 49
        }
      ]
    },
    {
      "cell_type": "code",
      "metadata": {
        "id": "Oi7xW7KfS0TB",
        "colab_type": "code",
        "colab": {
          "base_uri": "https://localhost:8080/",
          "height": 277
        },
        "outputId": "0c34aedd-1bd9-466d-d69c-b51431252c88"
      },
      "source": [
        "for obj1 in C:\n",
        "  print(obj1.shape)\n",
        "  for obj2 in obj1:\n",
        "    print(obj2.shape)\n",
        "    print(obj2)"
      ],
      "execution_count": null,
      "outputs": [
        {
          "output_type": "stream",
          "text": [
            "(2, 3)\n",
            "(3,)\n",
            "[0 1 2]\n",
            "(3,)\n",
            "[10 12 13]\n",
            "(2, 3)\n",
            "(3,)\n",
            "[100 101 102]\n",
            "(3,)\n",
            "[110 112 113]\n",
            "(2, 3)\n",
            "(3,)\n",
            "[ 1 10 12]\n",
            "(3,)\n",
            "[110 112 113]\n"
          ],
          "name": "stdout"
        }
      ]
    },
    {
      "cell_type": "markdown",
      "metadata": {
        "id": "20o_D9S1TM1b",
        "colab_type": "text"
      },
      "source": [
        "## Shape Manipulation"
      ]
    },
    {
      "cell_type": "code",
      "metadata": {
        "id": "VhxbC7gPTO4m",
        "colab_type": "code",
        "colab": {
          "base_uri": "https://localhost:8080/",
          "height": 69
        },
        "outputId": "15198ce8-c4d5-49af-fb6e-d583a42bfd8e"
      },
      "source": [
        "A = np.floor(10*np.random.random((3,4)))\n",
        "A"
      ],
      "execution_count": 4,
      "outputs": [
        {
          "output_type": "execute_result",
          "data": {
            "text/plain": [
              "array([[6., 6., 2., 3.],\n",
              "       [0., 4., 6., 6.],\n",
              "       [4., 9., 2., 9.]])"
            ]
          },
          "metadata": {
            "tags": []
          },
          "execution_count": 4
        }
      ]
    },
    {
      "cell_type": "code",
      "metadata": {
        "id": "tlglk7vHTnHk",
        "colab_type": "code",
        "colab": {
          "base_uri": "https://localhost:8080/",
          "height": 35
        },
        "outputId": "8ebab767-89f7-4309-e1fc-9e9877549a13"
      },
      "source": [
        "A.shape"
      ],
      "execution_count": 5,
      "outputs": [
        {
          "output_type": "execute_result",
          "data": {
            "text/plain": [
              "(3, 4)"
            ]
          },
          "metadata": {
            "tags": []
          },
          "execution_count": 5
        }
      ]
    },
    {
      "cell_type": "code",
      "metadata": {
        "id": "xmWUxABRTqZp",
        "colab_type": "code",
        "colab": {
          "base_uri": "https://localhost:8080/",
          "height": 35
        },
        "outputId": "d42c180d-73c6-40ad-ad8c-bca55654205b"
      },
      "source": [
        "A.ravel()"
      ],
      "execution_count": 6,
      "outputs": [
        {
          "output_type": "execute_result",
          "data": {
            "text/plain": [
              "array([6., 6., 2., 3., 0., 4., 6., 6., 4., 9., 2., 9.])"
            ]
          },
          "metadata": {
            "tags": []
          },
          "execution_count": 6
        }
      ]
    },
    {
      "cell_type": "code",
      "metadata": {
        "id": "UrNwKdSxTvWR",
        "colab_type": "code",
        "colab": {
          "base_uri": "https://localhost:8080/",
          "height": 121
        },
        "outputId": "43bec142-a5f7-4519-fbbb-c732b9792880"
      },
      "source": [
        "A = A.reshape(6,2)\n",
        "A"
      ],
      "execution_count": 7,
      "outputs": [
        {
          "output_type": "execute_result",
          "data": {
            "text/plain": [
              "array([[6., 6.],\n",
              "       [2., 3.],\n",
              "       [0., 4.],\n",
              "       [6., 6.],\n",
              "       [4., 9.],\n",
              "       [2., 9.]])"
            ]
          },
          "metadata": {
            "tags": []
          },
          "execution_count": 7
        }
      ]
    },
    {
      "cell_type": "code",
      "metadata": {
        "id": "ONUmkLkuT2KE",
        "colab_type": "code",
        "colab": {
          "base_uri": "https://localhost:8080/",
          "height": 52
        },
        "outputId": "06d8ae8b-736e-4cac-8f88-81b056143764"
      },
      "source": [
        "A.T"
      ],
      "execution_count": 8,
      "outputs": [
        {
          "output_type": "execute_result",
          "data": {
            "text/plain": [
              "array([[6., 2., 0., 6., 4., 2.],\n",
              "       [6., 3., 4., 6., 9., 9.]])"
            ]
          },
          "metadata": {
            "tags": []
          },
          "execution_count": 8
        }
      ]
    },
    {
      "cell_type": "code",
      "metadata": {
        "id": "daTe5ciNT5OM",
        "colab_type": "code",
        "colab": {
          "base_uri": "https://localhost:8080/",
          "height": 35
        },
        "outputId": "d4340a74-0efe-4d67-a89f-30d4bdc83018"
      },
      "source": [
        "A.T.shape"
      ],
      "execution_count": 9,
      "outputs": [
        {
          "output_type": "execute_result",
          "data": {
            "text/plain": [
              "(2, 6)"
            ]
          },
          "metadata": {
            "tags": []
          },
          "execution_count": 9
        }
      ]
    },
    {
      "cell_type": "code",
      "metadata": {
        "id": "RxMvSX_PUBTu",
        "colab_type": "code",
        "colab": {
          "base_uri": "https://localhost:8080/",
          "height": 35
        },
        "outputId": "fa6e0c16-35b3-49e9-a41a-2acbe8e109b1"
      },
      "source": [
        "A.shape"
      ],
      "execution_count": 10,
      "outputs": [
        {
          "output_type": "execute_result",
          "data": {
            "text/plain": [
              "(6, 2)"
            ]
          },
          "metadata": {
            "tags": []
          },
          "execution_count": 10
        }
      ]
    },
    {
      "cell_type": "code",
      "metadata": {
        "id": "GxN03YB6ZWYZ",
        "colab_type": "code",
        "colab": {
          "base_uri": "https://localhost:8080/",
          "height": 208
        },
        "outputId": "69093cf1-4024-4aa1-993a-56a820fb39f5"
      },
      "source": [
        "my_arr = np.arange(1,122).reshape(11,11)\n",
        "count = 0\n",
        "for row in my_arr:\n",
        "    row[count+1:] = 0\n",
        "    count += 1\n",
        "print(my_arr)"
      ],
      "execution_count": 11,
      "outputs": [
        {
          "output_type": "stream",
          "text": [
            "[[  1   0   0   0   0   0   0   0   0   0   0]\n",
            " [ 12  13   0   0   0   0   0   0   0   0   0]\n",
            " [ 23  24  25   0   0   0   0   0   0   0   0]\n",
            " [ 34  35  36  37   0   0   0   0   0   0   0]\n",
            " [ 45  46  47  48  49   0   0   0   0   0   0]\n",
            " [ 56  57  58  59  60  61   0   0   0   0   0]\n",
            " [ 67  68  69  70  71  72  73   0   0   0   0]\n",
            " [ 78  79  80  81  82  83  84  85   0   0   0]\n",
            " [ 89  90  91  92  93  94  95  96  97   0   0]\n",
            " [100 101 102 103 104 105 106 107 108 109   0]\n",
            " [111 112 113 114 115 116 117 118 119 120 121]]\n"
          ],
          "name": "stdout"
        }
      ]
    },
    {
      "cell_type": "code",
      "metadata": {
        "id": "rX54RSoWq3NU",
        "colab_type": "code",
        "colab": {
          "base_uri": "https://localhost:8080/",
          "height": 208
        },
        "outputId": "13fc1039-761e-47a7-f8af-41bf7f2b5c93"
      },
      "source": [
        "arr = np.arange(1,122).reshape(11,11)\n",
        "arr[4:9,3:8] = 0\n",
        "print(arr)"
      ],
      "execution_count": 12,
      "outputs": [
        {
          "output_type": "stream",
          "text": [
            "[[  1   2   3   4   5   6   7   8   9  10  11]\n",
            " [ 12  13  14  15  16  17  18  19  20  21  22]\n",
            " [ 23  24  25  26  27  28  29  30  31  32  33]\n",
            " [ 34  35  36  37  38  39  40  41  42  43  44]\n",
            " [ 45  46  47   0   0   0   0   0  53  54  55]\n",
            " [ 56  57  58   0   0   0   0   0  64  65  66]\n",
            " [ 67  68  69   0   0   0   0   0  75  76  77]\n",
            " [ 78  79  80   0   0   0   0   0  86  87  88]\n",
            " [ 89  90  91   0   0   0   0   0  97  98  99]\n",
            " [100 101 102 103 104 105 106 107 108 109 110]\n",
            " [111 112 113 114 115 116 117 118 119 120 121]]\n"
          ],
          "name": "stdout"
        }
      ]
    },
    {
      "cell_type": "markdown",
      "metadata": {
        "id": "mOOHNpCaWFaI",
        "colab_type": "text"
      },
      "source": [
        "## Stacking together different arrays"
      ]
    },
    {
      "cell_type": "code",
      "metadata": {
        "id": "JL2Cv-6jWG9w",
        "colab_type": "code",
        "colab": {
          "base_uri": "https://localhost:8080/",
          "height": 52
        },
        "outputId": "d213e8d2-4118-444d-f26a-2157cb0f9fba"
      },
      "source": [
        "a = np.floor(10*np.random.random((2,3)))\n",
        "a"
      ],
      "execution_count": 18,
      "outputs": [
        {
          "output_type": "execute_result",
          "data": {
            "text/plain": [
              "array([[6., 1., 8.],\n",
              "       [5., 7., 3.]])"
            ]
          },
          "metadata": {
            "tags": []
          },
          "execution_count": 18
        }
      ]
    },
    {
      "cell_type": "code",
      "metadata": {
        "id": "D_VZmFcYWUTG",
        "colab_type": "code",
        "colab": {
          "base_uri": "https://localhost:8080/",
          "height": 52
        },
        "outputId": "5eee49b1-ccda-45fa-fc66-365f95adb617"
      },
      "source": [
        "b = np.floor(10*np.random.random((2,3)))\n",
        "b"
      ],
      "execution_count": 19,
      "outputs": [
        {
          "output_type": "execute_result",
          "data": {
            "text/plain": [
              "array([[9., 2., 5.],\n",
              "       [6., 2., 3.]])"
            ]
          },
          "metadata": {
            "tags": []
          },
          "execution_count": 19
        }
      ]
    },
    {
      "cell_type": "code",
      "metadata": {
        "id": "JjIa8thoWb1C",
        "colab_type": "code",
        "colab": {
          "base_uri": "https://localhost:8080/",
          "height": 104
        },
        "outputId": "a7d7187d-e99b-4aa9-e6a2-0dee37df046d"
      },
      "source": [
        "np.vstack((a,b))"
      ],
      "execution_count": 16,
      "outputs": [
        {
          "output_type": "execute_result",
          "data": {
            "text/plain": [
              "array([[5., 6., 0.],\n",
              "       [1., 5., 5.],\n",
              "       [1., 3., 9.],\n",
              "       [3., 6., 2.],\n",
              "       [7., 1., 2.]])"
            ]
          },
          "metadata": {
            "tags": []
          },
          "execution_count": 16
        }
      ]
    },
    {
      "cell_type": "code",
      "metadata": {
        "id": "JHRrTZsaNpUT",
        "colab_type": "code",
        "colab": {
          "base_uri": "https://localhost:8080/",
          "height": 52
        },
        "outputId": "27c2cce8-938e-43ac-da0c-0252c5a9f530"
      },
      "source": [
        "\n",
        "np.hstack((a,b))"
      ],
      "execution_count": 20,
      "outputs": [
        {
          "output_type": "execute_result",
          "data": {
            "text/plain": [
              "array([[6., 1., 8., 9., 2., 5.],\n",
              "       [5., 7., 3., 6., 2., 3.]])"
            ]
          },
          "metadata": {
            "tags": []
          },
          "execution_count": 20
        }
      ]
    },
    {
      "cell_type": "markdown",
      "metadata": {
        "id": "TkOoFrS9iyzH",
        "colab_type": "text"
      },
      "source": [
        "Try HStack on your own."
      ]
    },
    {
      "cell_type": "markdown",
      "metadata": {
        "id": "oSQLVT_wWqtZ",
        "colab_type": "text"
      },
      "source": [
        "## Splitting one array into several"
      ]
    },
    {
      "cell_type": "code",
      "metadata": {
        "id": "VFJSSlyZWweP",
        "colab_type": "code",
        "colab": {
          "base_uri": "https://localhost:8080/",
          "height": 69
        },
        "outputId": "66f572e8-aa8d-420c-ac02-85b2e5cad587"
      },
      "source": [
        "a = np.floor(10*np.random.random((3,12)))\n",
        "a"
      ],
      "execution_count": 21,
      "outputs": [
        {
          "output_type": "execute_result",
          "data": {
            "text/plain": [
              "array([[3., 4., 4., 8., 3., 9., 4., 2., 3., 8., 2., 8.],\n",
              "       [2., 6., 6., 6., 7., 3., 4., 8., 8., 0., 2., 1.],\n",
              "       [8., 3., 4., 8., 1., 1., 4., 7., 8., 0., 9., 3.]])"
            ]
          },
          "metadata": {
            "tags": []
          },
          "execution_count": 21
        }
      ]
    },
    {
      "cell_type": "code",
      "metadata": {
        "id": "9cJcYi4-Z3rw",
        "colab_type": "code",
        "colab": {
          "base_uri": "https://localhost:8080/",
          "height": 139
        },
        "outputId": "9c3e15a0-3749-4b2d-90d2-c4ca7b3fd3b5"
      },
      "source": [
        "np.hsplit(a,3)"
      ],
      "execution_count": 22,
      "outputs": [
        {
          "output_type": "execute_result",
          "data": {
            "text/plain": [
              "[array([[3., 4., 4., 8.],\n",
              "        [2., 6., 6., 6.],\n",
              "        [8., 3., 4., 8.]]), array([[3., 9., 4., 2.],\n",
              "        [7., 3., 4., 8.],\n",
              "        [1., 1., 4., 7.]]), array([[3., 8., 2., 8.],\n",
              "        [8., 0., 2., 1.],\n",
              "        [8., 0., 9., 3.]])]"
            ]
          },
          "metadata": {
            "tags": []
          },
          "execution_count": 22
        }
      ]
    },
    {
      "cell_type": "code",
      "metadata": {
        "id": "4TVtnZKr9DMX",
        "colab_type": "code",
        "colab": {
          "base_uri": "https://localhost:8080/",
          "height": 69
        },
        "outputId": "45d8aecd-a638-4949-8a2f-cf925cc68174"
      },
      "source": [
        "np.vsplit(a,3) # homework"
      ],
      "execution_count": 23,
      "outputs": [
        {
          "output_type": "execute_result",
          "data": {
            "text/plain": [
              "[array([[3., 4., 4., 8., 3., 9., 4., 2., 3., 8., 2., 8.]]),\n",
              " array([[2., 6., 6., 6., 7., 3., 4., 8., 8., 0., 2., 1.]]),\n",
              " array([[8., 3., 4., 8., 1., 1., 4., 7., 8., 0., 9., 3.]])]"
            ]
          },
          "metadata": {
            "tags": []
          },
          "execution_count": 23
        }
      ]
    },
    {
      "cell_type": "markdown",
      "metadata": {
        "id": "OZqGoaDff1Vv",
        "colab_type": "text"
      },
      "source": [
        "## Linear Algebra"
      ]
    },
    {
      "cell_type": "code",
      "metadata": {
        "id": "e1MD-Hm2f3rz",
        "colab_type": "code",
        "colab": {
          "base_uri": "https://localhost:8080/",
          "height": 52
        },
        "outputId": "c909ceb5-9e83-492f-885e-2152487b5aea"
      },
      "source": [
        "a = np.array([[3.0, 2.0], [4.0, 6.5]])\n",
        "print(a)"
      ],
      "execution_count": null,
      "outputs": [
        {
          "output_type": "stream",
          "text": [
            "[[3.  2. ]\n",
            " [4.  6.5]]\n"
          ],
          "name": "stdout"
        }
      ]
    },
    {
      "cell_type": "code",
      "metadata": {
        "id": "lD0bpitCgEa7",
        "colab_type": "code",
        "colab": {
          "base_uri": "https://localhost:8080/",
          "height": 52
        },
        "outputId": "ce283d9a-351b-4b62-e90e-9d2d066eca51"
      },
      "source": [
        "a.transpose()"
      ],
      "execution_count": null,
      "outputs": [
        {
          "output_type": "execute_result",
          "data": {
            "text/plain": [
              "array([[3. , 4. ],\n",
              "       [2. , 6.5]])"
            ]
          },
          "metadata": {
            "tags": []
          },
          "execution_count": 67
        }
      ]
    },
    {
      "cell_type": "code",
      "metadata": {
        "id": "K7hHVMtvgJPb",
        "colab_type": "code",
        "colab": {
          "base_uri": "https://localhost:8080/",
          "height": 52
        },
        "outputId": "dc102e67-6d78-43b2-f51c-a512d980bc21"
      },
      "source": [
        "np.linalg.inv(a)                       #linalg is the package in numpy for Linear algebra operations"
      ],
      "execution_count": null,
      "outputs": [
        {
          "output_type": "execute_result",
          "data": {
            "text/plain": [
              "array([[ 0.56521739, -0.17391304],\n",
              "       [-0.34782609,  0.26086957]])"
            ]
          },
          "metadata": {
            "tags": []
          },
          "execution_count": 68
        }
      ]
    },
    {
      "cell_type": "code",
      "metadata": {
        "id": "GZgx5okcgZA2",
        "colab_type": "code",
        "colab": {
          "base_uri": "https://localhost:8080/",
          "height": 104
        },
        "outputId": "9aac4cc3-a06b-4d50-b4ac-f53ad7fb7739"
      },
      "source": [
        "u = np.eye(5) #pronounced as I (Identity matrix)\n",
        "u"
      ],
      "execution_count": 24,
      "outputs": [
        {
          "output_type": "execute_result",
          "data": {
            "text/plain": [
              "array([[1., 0., 0., 0., 0.],\n",
              "       [0., 1., 0., 0., 0.],\n",
              "       [0., 0., 1., 0., 0.],\n",
              "       [0., 0., 0., 1., 0.],\n",
              "       [0., 0., 0., 0., 1.]])"
            ]
          },
          "metadata": {
            "tags": []
          },
          "execution_count": 24
        }
      ]
    },
    {
      "cell_type": "markdown",
      "metadata": {
        "id": "qTX49Ez31dls",
        "colab_type": "text"
      },
      "source": [
        "## Advantages of Numpy against list\n",
        "\n",
        "The most important benefits of using it are :\n",
        "\n",
        "1. It consumes less memory.\n",
        "\n",
        "2. It is fast as compared to the python List.\n",
        "\n",
        "3. It is convenient to use.\n",
        "\n",
        "\n",
        "For Python Lists -  We can conclude from this that for every new element, we need another eight bytes for the reference to the new object. The new integer object itself consumes 28 bytes. The size of a list \"lst\" without the size of the elements can be calculated with:\n",
        "\n",
        "64 + 8 * len(lst) + (len(lst) * 28)\n",
        "\n",
        "![alt text](https://webcourses.ucf.edu/courses/1249560/files/64324060/download?verifier=ZSNNql7AkXjfNQuAPKVykvZTiRqAa6LJY4EvPrdr&wrap=1)\n",
        "\n",
        "\n",
        "NumPy takes up less space. This means that an arbitrary integer array of length \"n\" in numpy needs\n",
        "\n",
        "96 + n * 8 Bytes\n",
        "\n",
        "![alt text](https://webcourses.ucf.edu/courses/1249560/files/64324040/download?verifier=V7pAn7JWwOOMUVR8nJ2mpRIfu8MRFGTSZNwUCAlq&wrap=1)"
      ]
    },
    {
      "cell_type": "code",
      "metadata": {
        "id": "9EXnMwv41cTP",
        "colab_type": "code",
        "colab": {
          "base_uri": "https://localhost:8080/",
          "height": 52
        },
        "outputId": "442f04d2-ee2d-4480-c847-5677b75a2a7f"
      },
      "source": [
        "import numpy as np\n",
        "import time \n",
        "import sys\n",
        "\n",
        "# Creating a NumPy array with 1000 elements\n",
        "array = np.arange(1000)\n",
        "# array.itemsize : Size of one element\n",
        "# array.size : length of array\n",
        "print(\"Size of NumPy array: \", array.itemsize * array.shape[0])\n",
        "\n",
        "# Creating a list with 1000 elements\n",
        "# print the size of list\n",
        "list = range(0, 1000)\n",
        "# Multiplying size of 1 element with length of the list\n",
        "print(\"Size of list: \", sys.getsizeof(list[0])*len(list))"
      ],
      "execution_count": 27,
      "outputs": [
        {
          "output_type": "stream",
          "text": [
            "Size of NumPy array:  8000\n",
            "Size of list:  24000\n"
          ],
          "name": "stdout"
        }
      ]
    },
    {
      "cell_type": "code",
      "metadata": {
        "id": "KlvDNqTK1z6j",
        "colab_type": "code",
        "colab": {
          "base_uri": "https://localhost:8080/",
          "height": 69
        },
        "outputId": "42021115-6336-407d-a88a-2b3f06bc933c"
      },
      "source": [
        "import math\n",
        "size_of_vec = 10000000\n",
        "\n",
        "def pure_python_version():\n",
        "    t1 = time.time()\n",
        "    X = range(size_of_vec)\n",
        "    Y = range(size_of_vec)\n",
        "    Z = [X[i] + Y[i] for i in range(len(X)) ]\n",
        "    return time.time() - t1\n",
        "\n",
        "def numpy_version():\n",
        "    t1 = time.time()\n",
        "    X = np.arange(size_of_vec)\n",
        "    Y = np.arange(size_of_vec)\n",
        "    Z = X + Y\n",
        "    return time.time() - t1\n",
        "\n",
        "\n",
        "t1 = pure_python_version()\n",
        "t2 = numpy_version()\n",
        "print(t1, \"\\n\", t2)\n",
        "print(\"Numpy in this example is: \" + str(math.floor(t1/t2)) + \"x faster!\")"
      ],
      "execution_count": 28,
      "outputs": [
        {
          "output_type": "stream",
          "text": [
            "2.96634578704834 \n",
            " 0.0755147933959961\n",
            "Numpy in this example is: 39x faster!\n"
          ],
          "name": "stdout"
        }
      ]
    },
    {
      "cell_type": "markdown",
      "metadata": {
        "id": "ACKZWCJ9gksn",
        "colab_type": "text"
      },
      "source": [
        "## Further Reading\n",
        "https://docs.scipy.org/doc/numpy/reference/index.html#reference"
      ]
    }
  ]
}